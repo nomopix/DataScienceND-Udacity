{
 "cells": [
  {
   "cell_type": "markdown",
   "metadata": {},
   "source": [
    "# ML Pipeline Preparation\n",
    "Follow the instructions below to help you create your ML pipeline.\n",
    "### 1. Import libraries and load data from database.\n",
    "- Import Python libraries\n",
    "- Load dataset from database with [`read_sql_table`](https://pandas.pydata.org/pandas-docs/stable/generated/pandas.read_sql_table.html)\n",
    "- Define feature and target variables X and Y"
   ]
  },
  {
   "cell_type": "code",
   "execution_count": 1,
   "metadata": {},
   "outputs": [
    {
     "name": "stderr",
     "output_type": "stream",
     "text": "[nltk_data] Downloading package punkt to /Users/nomopix/nltk_data...\n[nltk_data]   Package punkt is already up-to-date!\n[nltk_data] Downloading package wordnet to /Users/nomopix/nltk_data...\n[nltk_data]   Package wordnet is already up-to-date!\n[nltk_data] Downloading package averaged_perceptron_tagger to\n[nltk_data]     /Users/nomopix/nltk_data...\n[nltk_data]   Package averaged_perceptron_tagger is already up-to-\n[nltk_data]       date!\n"
    },
    {
     "data": {
      "text/plain": "True"
     },
     "execution_count": 1,
     "metadata": {},
     "output_type": "execute_result"
    }
   ],
   "source": [
    "# import libraries\n",
    "import sys\n",
    "import re\n",
    "import sqlalchemy as sqla\n",
    "import pandas as pd\n",
    "import numpy as np\n",
    "import pickle\n",
    "import os\n",
    "from sklearn import datasets, linear_model\n",
    "from sklearn.base import BaseEstimator, TransformerMixin\n",
    "from sklearn.model_selection import train_test_split\n",
    "from sklearn.pipeline import Pipeline, FeatureUnion\n",
    "from sklearn.metrics import confusion_matrix\n",
    "from sklearn.model_selection import train_test_split, GridSearchCV\n",
    "from sklearn.ensemble import RandomForestClassifier, AdaBoostClassifier\n",
    "from sklearn.feature_extraction.text import CountVectorizer, TfidfTransformer\n",
    "from sklearn.multiclass import OneVsRestClassifier\n",
    "from sklearn.multioutput import MultiOutputClassifier\n",
    "from sklearn.svm import LinearSVC\n",
    "from sklearn.metrics import make_scorer, accuracy_score, f1_score, fbeta_score, classification_report\n",
    "from sklearn.externals import joblib\n",
    "from scipy.stats import hmean\n",
    "from scipy.stats.mstats import gmean\n",
    "\n",
    "from matplotlib import pyplot as plt\n",
    "\n",
    "import nltk\n",
    "nltk.download('punkt')\n",
    "nltk.download('wordnet')\n",
    "nltk.download('averaged_perceptron_tagger')\n",
    "\n",
    "# import os\n",
    "# os.getcwd()"
   ]
  },
  {
   "cell_type": "code",
   "execution_count": 2,
   "metadata": {},
   "outputs": [],
   "source": [
    "# load data from database\n",
    "def load_data():\n",
    "    '''\n",
    "        input: none\n",
    "        output: dataset read split in \n",
    "            - X: features\n",
    "            - y: target\n",
    "        Description:\n",
    "            Reads the DisasterResponse.db file and splits it into features and target for further processing.\n",
    "        NOTES: Depending on which is your working directory you may need to adjust the relative path to the file.\n",
    "    ''' \n",
    "    path_1 = 'sqlite:///Disaster-response-pipelines/data/DisasterResponse.db'\n",
    "    path_2 = 'sqlite:///../data/DisasterResponse.db'\n",
    "    try: \n",
    "        engine = sqla.create_engine(path_1)\n",
    "    except:\n",
    "        engine = sqla.create_engine(path_2)\n",
    "    \n",
    "    df = pd.read_sql_query(\"SELECT * FROM clasified_messages\", engine)\n",
    "    \n",
    "    # features\n",
    "    feature_columns = df.columns[~df.columns.isin(['id','original','message','genre'])]\n",
    "    X = df['message'].values\n",
    "    # target\n",
    "    y = df[feature_columns].values\n",
    "\n",
    "    return X, y, feature_columns\n"
   ]
  },
  {
   "cell_type": "markdown",
   "metadata": {},
   "source": [
    "### 2. Write a tokenization function to process your text data"
   ]
  },
  {
   "cell_type": "code",
   "execution_count": 3,
   "metadata": {},
   "outputs": [],
   "source": [
    "def tokenize(text):\n",
    "    '''\n",
    "        input: A string of text\n",
    "        output: a cleaned list of words\n",
    "        \n",
    "        description: Given a \"text\", it will:\n",
    "            - lower case all words\n",
    "            - replace url's (if there are any) for a place holder word\n",
    "            - split into words\n",
    "            - lemmatize each word (remove variations of endings on words)\n",
    "            - remove spaces\n",
    "    '''\n",
    "    url_regex = 'http[s]?://(?:[a-zA-Z]|[0-9]|[$-_@.&+]|[!*\\(\\),]|(?:%[0-9a-fA-F][0-9a-fA-F]))+'\n",
    "    detected_urls = re.findall(url_regex, text)\n",
    "    for url in detected_urls:\n",
    "        text = text.replace(url, \"urlplaceholder\")\n",
    "\n",
    "    tokens = nltk.word_tokenize(text)\n",
    "    lemmatizer = nltk.WordNetLemmatizer()\n",
    "\n",
    "    clean_tokens = []\n",
    "    for tok in tokens:\n",
    "        clean_tok = lemmatizer.lemmatize(tok).lower().strip()\n",
    "        clean_tokens.append(clean_tok)\n",
    "\n",
    "    return clean_tokens"
   ]
  },
  {
   "cell_type": "markdown",
   "metadata": {},
   "source": [
    "### 3. Build a machine learning pipeline\n",
    "This machine pipeline should take in the `message` column as input and output classification results on the other 36 categories in the dataset. You may find the [MultiOutputClassifier](http://scikit-learn.org/stable/modules/generated/sklearn.multioutput.MultiOutputClassifier.html) helpful for predicting multiple target variables."
   ]
  },
  {
   "cell_type": "code",
   "execution_count": 5,
   "metadata": {},
   "outputs": [],
   "source": [
    "class StartingVerbExtractor(BaseEstimator, TransformerMixin):\n",
    "    '''\n",
    "    starting verb extractor\n",
    "\n",
    "    class to, given a text, will return the \"root\" of verbs rather than their\n",
    "    conjugated form.\n",
    "    '''\n",
    "\n",
    "    def starting_verb(self, text):\n",
    "        sentence_list = nltk.sent_tokenize(text)\n",
    "        for sentence in sentence_list:\n",
    "            pos_tags = nltk.pos_tag(tokenize(sentence))\n",
    "            first_word, first_tag = pos_tags[0]\n",
    "            if first_tag in ['VB', 'VBP'] or first_word == 'RT':\n",
    "                return True\n",
    "        return False\n",
    "\n",
    "    def fit(self, x, y=None):\n",
    "        return self\n",
    "\n",
    "    def transform(self, X):\n",
    "        X_tagged = pd.Series(X).apply(self.starting_verb)\n",
    "        return pd.DataFrame(X_tagged)\n",
    "\n",
    "def model_pipeline (parameters = 'none'):\n",
    "    pipeline = Pipeline([\n",
    "        ('features', FeatureUnion([\n",
    "\n",
    "            ('text_pipeline', Pipeline([\n",
    "                ('vect', CountVectorizer(tokenizer=tokenize)),\n",
    "                ('tfidf', TfidfTransformer())\n",
    "            ])),\n",
    "\n",
    "            ('starting_verb', StartingVerbExtractor())\n",
    "        ])),\n",
    "\n",
    "        ('reg', MultiOutputClassifier(AdaBoostClassifier(n_estimators=10)))\n",
    "    ])\n",
    "\n",
    "    if parameters == 'none':\n",
    "        parameters = {}\n",
    "\n",
    "    cv = GridSearchCV(pipeline, param_grid=parameters, n_jobs=4, cv=5)\n",
    "\n",
    "    return cv"
   ]
  },
  {
   "cell_type": "markdown",
   "metadata": {},
   "source": [
    "### 4. Train pipeline\n",
    "- Split data into train and test sets\n",
    "- Train pipeline"
   ]
  },
  {
   "cell_type": "code",
   "execution_count": 6,
   "metadata": {},
   "outputs": [],
   "source": [
    "X, y, category_names = load_data()\n",
    "\n",
    "X_train, X_test, y_train, y_test = train_test_split(X, y)"
   ]
  },
  {
   "cell_type": "code",
   "execution_count": 7,
   "metadata": {},
   "outputs": [],
   "source": [
    "pipeline = model_pipeline()"
   ]
  },
  {
   "cell_type": "code",
   "execution_count": 8,
   "metadata": {},
   "outputs": [
    {
     "name": "stdout",
     "output_type": "stream",
     "text": "--- 1051.4819059371948 seconds ---\n"
    },
    {
     "ename": "NameError",
     "evalue": "name 'cv' is not defined",
     "output_type": "error",
     "traceback": [
      "\u001b[0;31m---------------------------------------------------------------------------\u001b[0m",
      "\u001b[0;31mNameError\u001b[0m                                 Traceback (most recent call last)",
      "\u001b[0;32m<ipython-input-8-84f6097ea92c>\u001b[0m in \u001b[0;36m<module>\u001b[0;34m\u001b[0m\n\u001b[1;32m      3\u001b[0m \u001b[0mpipeline\u001b[0m\u001b[0;34m.\u001b[0m\u001b[0mfit\u001b[0m\u001b[0;34m(\u001b[0m\u001b[0mX_train\u001b[0m\u001b[0;34m,\u001b[0m \u001b[0my_train\u001b[0m\u001b[0;34m)\u001b[0m\u001b[0;34m\u001b[0m\u001b[0;34m\u001b[0m\u001b[0m\n\u001b[1;32m      4\u001b[0m \u001b[0mprint\u001b[0m\u001b[0;34m(\u001b[0m\u001b[0;34m\"--- %s seconds ---\"\u001b[0m \u001b[0;34m%\u001b[0m \u001b[0;34m(\u001b[0m\u001b[0mtime\u001b[0m\u001b[0;34m.\u001b[0m\u001b[0mtime\u001b[0m\u001b[0;34m(\u001b[0m\u001b[0;34m)\u001b[0m \u001b[0;34m-\u001b[0m \u001b[0mstart_time\u001b[0m\u001b[0;34m)\u001b[0m\u001b[0;34m)\u001b[0m\u001b[0;34m\u001b[0m\u001b[0;34m\u001b[0m\u001b[0m\n\u001b[0;32m----> 5\u001b[0;31m \u001b[0mcv\u001b[0m\u001b[0;34m.\u001b[0m\u001b[0mbest_params_\u001b[0m\u001b[0;34m\u001b[0m\u001b[0;34m\u001b[0m\u001b[0m\n\u001b[0m",
      "\u001b[0;31mNameError\u001b[0m: name 'cv' is not defined"
     ]
    }
   ],
   "source": [
    "import time\n",
    "start_time = time.time()\n",
    "pipeline.fit(X_train, y_train)\n",
    "print(\"--- %s seconds ---\" % (time.time() - start_time))\n",
    "cv.best_params_"
   ]
  },
  {
   "cell_type": "markdown",
   "metadata": {},
   "source": [
    "### 5. Test your model\n",
    "Report the f1 score, precision and recall for each output category of the dataset. You can do this by iterating through the columns and calling sklearn's `classification_report` on each."
   ]
  },
  {
   "cell_type": "code",
   "execution_count": 51,
   "metadata": {},
   "outputs": [
    {
     "name": "stdout",
     "output_type": "stream",
     "text": "Message category: related\n              precision    recall  f1-score   support\n\n           0       0.51      0.10      0.17      1590\n           1       0.76      0.97      0.85      4912\n           2       0.00      0.00      0.00        52\n\n   micro avg       0.75      0.75      0.75      6554\n   macro avg       0.42      0.36      0.34      6554\nweighted avg       0.70      0.75      0.68      6554\n\nMessage category: request\n              precision    recall  f1-score   support\n\n           0       0.89      0.97      0.93      5417\n           1       0.76      0.45      0.57      1137\n\n   micro avg       0.88      0.88      0.88      6554\n   macro avg       0.83      0.71      0.75      6554\nweighted avg       0.87      0.88      0.87      6554\n\nMessage category: offer\n              precision    recall  f1-score   support\n\n           0       1.00      1.00      1.00      6527\n           1       0.00      0.00      0.00        27\n\n   micro avg       1.00      1.00      1.00      6554\n   macro avg       0.50      0.50      0.50      6554\nweighted avg       0.99      1.00      0.99      6554\n\nMessage category: aid_related\n              precision    recall  f1-score   support\n\n           0       0.71      0.87      0.78      3862\n           1       0.72      0.49      0.58      2692\n\n   micro avg       0.71      0.71      0.71      6554\n   macro avg       0.72      0.68      0.68      6554\nweighted avg       0.72      0.71      0.70      6554\n\nMessage category: medical_help\n              precision    recall  f1-score   support\n\n           0       0.93      0.99      0.96      6038\n           1       0.57      0.18      0.28       516\n\n   micro avg       0.92      0.92      0.92      6554\n   macro avg       0.75      0.59      0.62      6554\nweighted avg       0.91      0.92      0.91      6554\n\nMessage category: medical_products\n              precision    recall  f1-score   support\n\n           0       0.97      0.99      0.98      6231\n           1       0.65      0.32      0.42       323\n\n   micro avg       0.96      0.96      0.96      6554\n   macro avg       0.81      0.65      0.70      6554\nweighted avg       0.95      0.96      0.95      6554\n\nMessage category: search_and_rescue\n              precision    recall  f1-score   support\n\n           0       0.98      1.00      0.99      6364\n           1       0.58      0.18      0.28       190\n\n   micro avg       0.97      0.97      0.97      6554\n   macro avg       0.78      0.59      0.63      6554\nweighted avg       0.96      0.97      0.97      6554\n\nMessage category: security\n              precision    recall  f1-score   support\n\n           0       0.98      1.00      0.99      6436\n           1       0.25      0.05      0.08       118\n\n   micro avg       0.98      0.98      0.98      6554\n   macro avg       0.62      0.52      0.54      6554\nweighted avg       0.97      0.98      0.97      6554\n\nMessage category: military\n              precision    recall  f1-score   support\n\n           0       0.97      1.00      0.99      6355\n           1       0.57      0.14      0.22       199\n\n   micro avg       0.97      0.97      0.97      6554\n   macro avg       0.77      0.57      0.60      6554\nweighted avg       0.96      0.97      0.96      6554\n\nMessage category: child_alone\n              precision    recall  f1-score   support\n\n           0       1.00      1.00      1.00      6554\n\n   micro avg       1.00      1.00      1.00      6554\n   macro avg       1.00      1.00      1.00      6554\nweighted avg       1.00      1.00      1.00      6554\n\nMessage category: water\n/Users/nomopix/anaconda3/envs/py3/lib/python3.7/site-packages/sklearn/metrics/classification.py:1143: UndefinedMetricWarning: Precision and F-score are ill-defined and being set to 0.0 in labels with no predicted samples.\n  'precision', 'predicted', average, warn_for)\n              precision    recall  f1-score   support\n\n           0       0.97      0.99      0.98      6124\n           1       0.79      0.59      0.68       430\n\n   micro avg       0.96      0.96      0.96      6554\n   macro avg       0.88      0.79      0.83      6554\nweighted avg       0.96      0.96      0.96      6554\n\nMessage category: food\n              precision    recall  f1-score   support\n\n           0       0.97      0.97      0.97      5831\n           1       0.78      0.75      0.77       723\n\n   micro avg       0.95      0.95      0.95      6554\n   macro avg       0.87      0.86      0.87      6554\nweighted avg       0.95      0.95      0.95      6554\n\nMessage category: shelter\n              precision    recall  f1-score   support\n\n           0       0.96      0.99      0.97      6026\n           1       0.79      0.51      0.62       528\n\n   micro avg       0.95      0.95      0.95      6554\n   macro avg       0.87      0.75      0.80      6554\nweighted avg       0.94      0.95      0.94      6554\n\nMessage category: clothing\n              precision    recall  f1-score   support\n\n           0       0.99      1.00      1.00      6463\n           1       0.77      0.47      0.59        91\n\n   micro avg       0.99      0.99      0.99      6554\n   macro avg       0.88      0.74      0.79      6554\nweighted avg       0.99      0.99      0.99      6554\n\nMessage category: money\n              precision    recall  f1-score   support\n\n           0       0.98      0.99      0.99      6401\n           1       0.48      0.24      0.32       153\n\n   micro avg       0.98      0.98      0.98      6554\n   macro avg       0.73      0.61      0.65      6554\nweighted avg       0.97      0.98      0.97      6554\n\nMessage category: missing_people\n              precision    recall  f1-score   support\n\n           0       0.99      1.00      0.99      6477\n           1       0.68      0.19      0.30        77\n\n   micro avg       0.99      0.99      0.99      6554\n   macro avg       0.84      0.60      0.65      6554\nweighted avg       0.99      0.99      0.99      6554\n\nMessage category: refugees\n              precision    recall  f1-score   support\n\n           0       0.97      1.00      0.98      6332\n           1       0.62      0.16      0.26       222\n\n   micro avg       0.97      0.97      0.97      6554\n   macro avg       0.80      0.58      0.62      6554\nweighted avg       0.96      0.97      0.96      6554\n\nMessage category: death\n              precision    recall  f1-score   support\n\n           0       0.97      0.99      0.98      6261\n           1       0.77      0.38      0.51       293\n\n   micro avg       0.97      0.97      0.97      6554\n   macro avg       0.87      0.69      0.75      6554\nweighted avg       0.96      0.97      0.96      6554\n\nMessage category: other_aid\n              precision    recall  f1-score   support\n\n           0       0.88      0.99      0.93      5679\n           1       0.56      0.09      0.16       875\n\n   micro avg       0.87      0.87      0.87      6554\n   macro avg       0.72      0.54      0.54      6554\nweighted avg       0.83      0.87      0.83      6554\n\nMessage category: infrastructure_related\n              precision    recall  f1-score   support\n\n           0       0.94      0.99      0.97      6153\n           1       0.40      0.06      0.11       401\n\n   micro avg       0.94      0.94      0.94      6554\n   macro avg       0.67      0.53      0.54      6554\nweighted avg       0.91      0.94      0.91      6554\n\nMessage category: transport\n              precision    recall  f1-score   support\n\n           0       0.96      0.99      0.98      6255\n           1       0.67      0.24      0.35       299\n\n   micro avg       0.96      0.96      0.96      6554\n   macro avg       0.82      0.62      0.67      6554\nweighted avg       0.95      0.96      0.95      6554\n\nMessage category: buildings\n              precision    recall  f1-score   support\n\n           0       0.96      0.99      0.98      6214\n           1       0.70      0.22      0.34       340\n\n   micro avg       0.95      0.95      0.95      6554\n   macro avg       0.83      0.61      0.66      6554\nweighted avg       0.95      0.95      0.94      6554\n\nMessage category: electricity\n              precision    recall  f1-score   support\n\n           0       0.98      1.00      0.99      6428\n           1       0.60      0.21      0.31       126\n\n   micro avg       0.98      0.98      0.98      6554\n   macro avg       0.79      0.60      0.65      6554\nweighted avg       0.98      0.98      0.98      6554\n\nMessage category: tools\n              precision    recall  f1-score   support\n\n           0       0.99      1.00      1.00      6517\n           1       0.50      0.08      0.14        37\n\n   micro avg       0.99      0.99      0.99      6554\n   macro avg       0.75      0.54      0.57      6554\nweighted avg       0.99      0.99      0.99      6554\n\nMessage category: hospitals\n              precision    recall  f1-score   support\n\n           0       0.99      1.00      0.99      6492\n           1       0.25      0.06      0.10        62\n\n   micro avg       0.99      0.99      0.99      6554\n   macro avg       0.62      0.53      0.55      6554\nweighted avg       0.98      0.99      0.99      6554\n\nMessage category: shops\n              precision    recall  f1-score   support\n\n           0       1.00      1.00      1.00      6526\n           1       1.00      0.04      0.07        28\n\n   micro avg       1.00      1.00      1.00      6554\n   macro avg       1.00      0.52      0.53      6554\nweighted avg       1.00      1.00      0.99      6554\n\nMessage category: aid_centers\n              precision    recall  f1-score   support\n\n           0       0.99      1.00      0.99      6480\n           1       0.67      0.11      0.19        74\n\n   micro avg       0.99      0.99      0.99      6554\n   macro avg       0.83      0.55      0.59      6554\nweighted avg       0.99      0.99      0.99      6554\n\nMessage category: other_infrastructure\n              precision    recall  f1-score   support\n\n           0       0.96      0.99      0.98      6271\n           1       0.24      0.04      0.06       283\n\n   micro avg       0.95      0.95      0.95      6554\n   macro avg       0.60      0.52      0.52      6554\nweighted avg       0.93      0.95      0.94      6554\n\nMessage category: weather_related\n              precision    recall  f1-score   support\n\n           0       0.86      0.97      0.91      4772\n           1       0.89      0.59      0.71      1782\n\n   micro avg       0.87      0.87      0.87      6554\n   macro avg       0.88      0.78      0.81      6554\nweighted avg       0.87      0.87      0.86      6554\n\nMessage category: floods\n              precision    recall  f1-score   support\n\n           0       0.96      0.99      0.98      6012\n           1       0.89      0.55      0.68       542\n\n   micro avg       0.96      0.96      0.96      6554\n   macro avg       0.93      0.77      0.83      6554\nweighted avg       0.95      0.96      0.95      6554\n\nMessage category: storm\n              precision    recall  f1-score   support\n\n           0       0.95      0.99      0.97      5962\n           1       0.78      0.46      0.58       592\n\n   micro avg       0.94      0.94      0.94      6554\n   macro avg       0.86      0.72      0.77      6554\nweighted avg       0.93      0.94      0.93      6554\n\nMessage category: fire\n              precision    recall  f1-score   support\n\n           0       0.99      1.00      0.99      6487\n           1       0.43      0.24      0.31        67\n\n   micro avg       0.99      0.99      0.99      6554\n   macro avg       0.71      0.62      0.65      6554\nweighted avg       0.99      0.99      0.99      6554\n\nMessage category: earthquake\n              precision    recall  f1-score   support\n\n           0       0.98      0.99      0.98      5934\n           1       0.90      0.78      0.83       620\n\n   micro avg       0.97      0.97      0.97      6554\n   macro avg       0.94      0.88      0.91      6554\nweighted avg       0.97      0.97      0.97      6554\n\nMessage category: cold\n              precision    recall  f1-score   support\n\n           0       0.99      1.00      0.99      6419\n           1       0.68      0.36      0.47       135\n\n   micro avg       0.98      0.98      0.98      6554\n   macro avg       0.83      0.68      0.73      6554\nweighted avg       0.98      0.98      0.98      6554\n\nMessage category: other_weather\n              precision    recall  f1-score   support\n\n           0       0.96      0.99      0.97      6239\n           1       0.45      0.10      0.17       315\n\n   micro avg       0.95      0.95      0.95      6554\n   macro avg       0.70      0.55      0.57      6554\nweighted avg       0.93      0.95      0.94      6554\n\nMessage category: direct_report\n              precision    recall  f1-score   support\n\n           0       0.88      0.96      0.92      5315\n           1       0.73      0.42      0.53      1239\n\n   micro avg       0.86      0.86      0.86      6554\n   macro avg       0.80      0.69      0.72      6554\nweighted avg       0.85      0.86      0.84      6554\n\n"
    }
   ],
   "source": [
    "def evaluate_model(model, X_test, y_test, category_names):\n",
    "    \n",
    "    preds = model.predict(X_test)\n",
    "    for cat in range(0, len(category_names)):\n",
    "        print('Message category:', category_names[cat])\n",
    "        print(classification_report(y_test[:, cat], preds[:, cat]))\n",
    "\n",
    "evaluate_model(pipeline, X_test, y_test, category_names)\n"
   ]
  },
  {
   "cell_type": "markdown",
   "metadata": {},
   "source": [
    "### 6. Improve your model\n",
    "Use grid search to find better parameters. "
   ]
  },
  {
   "cell_type": "code",
   "execution_count": 55,
   "metadata": {},
   "outputs": [
    {
     "name": "stdout",
     "output_type": "stream",
     "text": "--- 150.6802580356598 seconds ---\nMessage category: related\n              precision    recall  f1-score   support\n\n           0       0.51      0.10      0.17      1590\n           1       0.76      0.97      0.85      4912\n           2       0.00      0.00      0.00        52\n\n   micro avg       0.75      0.75      0.75      6554\n   macro avg       0.42      0.36      0.34      6554\nweighted avg       0.70      0.75      0.68      6554\n\nMessage category: request\n              precision    recall  f1-score   support\n\n           0       0.89      0.97      0.93      5417\n           1       0.76      0.45      0.57      1137\n\n   micro avg       0.88      0.88      0.88      6554\n   macro avg       0.83      0.71      0.75      6554\nweighted avg       0.87      0.88      0.87      6554\n\nMessage category: offer\n              precision    recall  f1-score   support\n\n           0       1.00      1.00      1.00      6527\n           1       0.00      0.00      0.00        27\n\n   micro avg       1.00      1.00      1.00      6554\n   macro avg       0.50      0.50      0.50      6554\nweighted avg       0.99      1.00      0.99      6554\n\nMessage category: aid_related\n              precision    recall  f1-score   support\n\n           0       0.71      0.87      0.78      3862\n           1       0.72      0.49      0.58      2692\n\n   micro avg       0.71      0.71      0.71      6554\n   macro avg       0.72      0.68      0.68      6554\nweighted avg       0.72      0.71      0.70      6554\n\nMessage category: medical_help\n              precision    recall  f1-score   support\n\n           0       0.93      0.99      0.96      6038\n           1       0.57      0.18      0.28       516\n\n   micro avg       0.92      0.92      0.92      6554\n   macro avg       0.75      0.59      0.62      6554\nweighted avg       0.91      0.92      0.91      6554\n\nMessage category: medical_products\n              precision    recall  f1-score   support\n\n           0       0.97      0.99      0.98      6231\n           1       0.65      0.32      0.42       323\n\n   micro avg       0.96      0.96      0.96      6554\n   macro avg       0.81      0.65      0.70      6554\nweighted avg       0.95      0.96      0.95      6554\n\nMessage category: search_and_rescue\n              precision    recall  f1-score   support\n\n           0       0.98      1.00      0.99      6364\n           1       0.58      0.18      0.28       190\n\n   micro avg       0.97      0.97      0.97      6554\n   macro avg       0.78      0.59      0.63      6554\nweighted avg       0.96      0.97      0.97      6554\n\nMessage category: security\n              precision    recall  f1-score   support\n\n           0       0.98      1.00      0.99      6436\n           1       0.25      0.05      0.08       118\n\n   micro avg       0.98      0.98      0.98      6554\n   macro avg       0.62      0.52      0.54      6554\nweighted avg       0.97      0.98      0.97      6554\n\nMessage category: military\n              precision    recall  f1-score   support\n\n           0       0.97      1.00      0.99      6355\n           1       0.57      0.14      0.22       199\n\n   micro avg       0.97      0.97      0.97      6554\n   macro avg       0.77      0.57      0.60      6554\nweighted avg       0.96      0.97      0.96      6554\n\nMessage category: child_alone\n              precision    recall  f1-score   support\n\n           0       1.00      1.00      1.00      6554\n\n   micro avg       1.00      1.00      1.00      6554\n   macro avg       1.00      1.00      1.00      6554\nweighted avg       1.00      1.00      1.00      6554\n\nMessage category: water\n              precision    recall  f1-score   support\n\n           0       0.97      0.99      0.98      6124\n           1       0.79      0.59      0.68       430\n\n   micro avg       0.96      0.96      0.96      6554\n   macro avg       0.88      0.79      0.83      6554\nweighted avg       0.96      0.96      0.96      6554\n\nMessage category: food\n              precision    recall  f1-score   support\n\n           0       0.97      0.97      0.97      5831\n           1       0.78      0.75      0.77       723\n\n   micro avg       0.95      0.95      0.95      6554\n   macro avg       0.87      0.86      0.87      6554\nweighted avg       0.95      0.95      0.95      6554\n\nMessage category: shelter\n/Users/nomopix/anaconda3/envs/py3/lib/python3.7/site-packages/sklearn/metrics/classification.py:1143: UndefinedMetricWarning: Precision and F-score are ill-defined and being set to 0.0 in labels with no predicted samples.\n  'precision', 'predicted', average, warn_for)\n              precision    recall  f1-score   support\n\n           0       0.96      0.99      0.97      6026\n           1       0.79      0.51      0.62       528\n\n   micro avg       0.95      0.95      0.95      6554\n   macro avg       0.87      0.75      0.80      6554\nweighted avg       0.94      0.95      0.94      6554\n\nMessage category: clothing\n              precision    recall  f1-score   support\n\n           0       0.99      1.00      1.00      6463\n           1       0.77      0.47      0.59        91\n\n   micro avg       0.99      0.99      0.99      6554\n   macro avg       0.88      0.74      0.79      6554\nweighted avg       0.99      0.99      0.99      6554\n\nMessage category: money\n              precision    recall  f1-score   support\n\n           0       0.98      0.99      0.99      6401\n           1       0.48      0.24      0.32       153\n\n   micro avg       0.98      0.98      0.98      6554\n   macro avg       0.73      0.61      0.65      6554\nweighted avg       0.97      0.98      0.97      6554\n\nMessage category: missing_people\n              precision    recall  f1-score   support\n\n           0       0.99      1.00      0.99      6477\n           1       0.68      0.19      0.30        77\n\n   micro avg       0.99      0.99      0.99      6554\n   macro avg       0.84      0.60      0.65      6554\nweighted avg       0.99      0.99      0.99      6554\n\nMessage category: refugees\n              precision    recall  f1-score   support\n\n           0       0.97      1.00      0.98      6332\n           1       0.62      0.16      0.26       222\n\n   micro avg       0.97      0.97      0.97      6554\n   macro avg       0.80      0.58      0.62      6554\nweighted avg       0.96      0.97      0.96      6554\n\nMessage category: death\n              precision    recall  f1-score   support\n\n           0       0.97      0.99      0.98      6261\n           1       0.77      0.38      0.51       293\n\n   micro avg       0.97      0.97      0.97      6554\n   macro avg       0.87      0.69      0.75      6554\nweighted avg       0.96      0.97      0.96      6554\n\nMessage category: other_aid\n              precision    recall  f1-score   support\n\n           0       0.88      0.99      0.93      5679\n           1       0.56      0.09      0.16       875\n\n   micro avg       0.87      0.87      0.87      6554\n   macro avg       0.72      0.54      0.54      6554\nweighted avg       0.83      0.87      0.83      6554\n\nMessage category: infrastructure_related\n              precision    recall  f1-score   support\n\n           0       0.94      0.99      0.97      6153\n           1       0.40      0.06      0.11       401\n\n   micro avg       0.94      0.94      0.94      6554\n   macro avg       0.67      0.53      0.54      6554\nweighted avg       0.91      0.94      0.91      6554\n\nMessage category: transport\n              precision    recall  f1-score   support\n\n           0       0.96      0.99      0.98      6255\n           1       0.67      0.24      0.35       299\n\n   micro avg       0.96      0.96      0.96      6554\n   macro avg       0.82      0.62      0.67      6554\nweighted avg       0.95      0.96      0.95      6554\n\nMessage category: buildings\n              precision    recall  f1-score   support\n\n           0       0.96      0.99      0.98      6214\n           1       0.70      0.22      0.34       340\n\n   micro avg       0.95      0.95      0.95      6554\n   macro avg       0.83      0.61      0.66      6554\nweighted avg       0.95      0.95      0.94      6554\n\nMessage category: electricity\n              precision    recall  f1-score   support\n\n           0       0.98      1.00      0.99      6428\n           1       0.60      0.21      0.31       126\n\n   micro avg       0.98      0.98      0.98      6554\n   macro avg       0.79      0.60      0.65      6554\nweighted avg       0.98      0.98      0.98      6554\n\nMessage category: tools\n              precision    recall  f1-score   support\n\n           0       0.99      1.00      1.00      6517\n           1       0.50      0.08      0.14        37\n\n   micro avg       0.99      0.99      0.99      6554\n   macro avg       0.75      0.54      0.57      6554\nweighted avg       0.99      0.99      0.99      6554\n\nMessage category: hospitals\n              precision    recall  f1-score   support\n\n           0       0.99      1.00      0.99      6492\n           1       0.25      0.06      0.10        62\n\n   micro avg       0.99      0.99      0.99      6554\n   macro avg       0.62      0.53      0.55      6554\nweighted avg       0.98      0.99      0.99      6554\n\nMessage category: shops\n              precision    recall  f1-score   support\n\n           0       1.00      1.00      1.00      6526\n           1       1.00      0.04      0.07        28\n\n   micro avg       1.00      1.00      1.00      6554\n   macro avg       1.00      0.52      0.53      6554\nweighted avg       1.00      1.00      0.99      6554\n\nMessage category: aid_centers\n              precision    recall  f1-score   support\n\n           0       0.99      1.00      0.99      6480\n           1       0.67      0.11      0.19        74\n\n   micro avg       0.99      0.99      0.99      6554\n   macro avg       0.83      0.55      0.59      6554\nweighted avg       0.99      0.99      0.99      6554\n\nMessage category: other_infrastructure\n              precision    recall  f1-score   support\n\n           0       0.96      0.99      0.98      6271\n           1       0.24      0.04      0.06       283\n\n   micro avg       0.95      0.95      0.95      6554\n   macro avg       0.60      0.52      0.52      6554\nweighted avg       0.93      0.95      0.94      6554\n\nMessage category: weather_related\n              precision    recall  f1-score   support\n\n           0       0.86      0.97      0.91      4772\n           1       0.89      0.59      0.71      1782\n\n   micro avg       0.87      0.87      0.87      6554\n   macro avg       0.88      0.78      0.81      6554\nweighted avg       0.87      0.87      0.86      6554\n\nMessage category: floods\n              precision    recall  f1-score   support\n\n           0       0.96      0.99      0.98      6012\n           1       0.89      0.55      0.68       542\n\n   micro avg       0.96      0.96      0.96      6554\n   macro avg       0.93      0.77      0.83      6554\nweighted avg       0.95      0.96      0.95      6554\n\nMessage category: storm\n              precision    recall  f1-score   support\n\n           0       0.95      0.99      0.97      5962\n           1       0.78      0.46      0.58       592\n\n   micro avg       0.94      0.94      0.94      6554\n   macro avg       0.86      0.72      0.77      6554\nweighted avg       0.93      0.94      0.93      6554\n\nMessage category: fire\n              precision    recall  f1-score   support\n\n           0       0.99      1.00      0.99      6487\n           1       0.43      0.24      0.31        67\n\n   micro avg       0.99      0.99      0.99      6554\n   macro avg       0.71      0.62      0.65      6554\nweighted avg       0.99      0.99      0.99      6554\n\nMessage category: earthquake\n              precision    recall  f1-score   support\n\n           0       0.98      0.99      0.98      5934\n           1       0.90      0.78      0.83       620\n\n   micro avg       0.97      0.97      0.97      6554\n   macro avg       0.94      0.88      0.91      6554\nweighted avg       0.97      0.97      0.97      6554\n\nMessage category: cold\n              precision    recall  f1-score   support\n\n           0       0.99      1.00      0.99      6419\n           1       0.68      0.36      0.47       135\n\n   micro avg       0.98      0.98      0.98      6554\n   macro avg       0.83      0.68      0.73      6554\nweighted avg       0.98      0.98      0.98      6554\n\nMessage category: other_weather\n              precision    recall  f1-score   support\n\n           0       0.96      0.99      0.97      6239\n           1       0.45      0.10      0.17       315\n\n   micro avg       0.95      0.95      0.95      6554\n   macro avg       0.70      0.55      0.57      6554\nweighted avg       0.93      0.95      0.94      6554\n\nMessage category: direct_report\n              precision    recall  f1-score   support\n\n           0       0.88      0.96      0.92      5315\n           1       0.73      0.42      0.53      1239\n\n   micro avg       0.86      0.86      0.86      6554\n   macro avg       0.80      0.69      0.72      6554\nweighted avg       0.85      0.86      0.84      6554\n\n"
    }
   ],
   "source": [
    "params1 = {'features__text_pipeline__vect__ngram_range':[(1,2),(2,2)],\n",
    "           'reg__estimator__n_estimators':[50, 100]\n",
    "          }\n",
    "pipeline1 = model_pipeline(params1)\n",
    "\n",
    "start_time = time.time()\n",
    "pipeline1.fit(X_train, y_train)\n",
    "print(\"--- %s seconds ---\" % (time.time() - start_time))\n",
    "\n",
    "evaluate_model(pipeline1, X_test, y_test, category_names)"
   ]
  },
  {
   "cell_type": "code",
   "execution_count": 56,
   "metadata": {},
   "outputs": [
    {
     "name": "stdout",
     "output_type": "stream",
     "text": "--- 144.70057106018066 seconds ---\nMessage category: related\n              precision    recall  f1-score   support\n\n           0       0.51      0.10      0.17      1590\n           1       0.76      0.97      0.85      4912\n           2       0.00      0.00      0.00        52\n\n   micro avg       0.75      0.75      0.75      6554\n   macro avg       0.42      0.36      0.34      6554\nweighted avg       0.70      0.75      0.68      6554\n\nMessage category: request\n              precision    recall  f1-score   support\n\n           0       0.89      0.97      0.93      5417\n           1       0.76      0.45      0.57      1137\n\n   micro avg       0.88      0.88      0.88      6554\n   macro avg       0.83      0.71      0.75      6554\nweighted avg       0.87      0.88      0.87      6554\n\nMessage category: offer\n              precision    recall  f1-score   support\n\n           0       1.00      1.00      1.00      6527\n           1       0.00      0.00      0.00        27\n\n   micro avg       1.00      1.00      1.00      6554\n   macro avg       0.50      0.50      0.50      6554\nweighted avg       0.99      1.00      0.99      6554\n\nMessage category: aid_related\n              precision    recall  f1-score   support\n\n           0       0.71      0.87      0.78      3862\n           1       0.72      0.49      0.58      2692\n\n   micro avg       0.71      0.71      0.71      6554\n   macro avg       0.72      0.68      0.68      6554\nweighted avg       0.72      0.71      0.70      6554\n\nMessage category: medical_help\n              precision    recall  f1-score   support\n\n           0       0.93      0.99      0.96      6038\n           1       0.57      0.18      0.28       516\n\n   micro avg       0.92      0.92      0.92      6554\n   macro avg       0.75      0.59      0.62      6554\nweighted avg       0.91      0.92      0.91      6554\n\nMessage category: medical_products\n              precision    recall  f1-score   support\n\n           0       0.97      0.99      0.98      6231\n           1       0.65      0.32      0.42       323\n\n   micro avg       0.96      0.96      0.96      6554\n   macro avg       0.81      0.65      0.70      6554\nweighted avg       0.95      0.96      0.95      6554\n\nMessage category: search_and_rescue\n              precision    recall  f1-score   support\n\n           0       0.98      1.00      0.99      6364\n           1       0.58      0.18      0.28       190\n\n   micro avg       0.97      0.97      0.97      6554\n   macro avg       0.78      0.59      0.63      6554\nweighted avg       0.96      0.97      0.97      6554\n\nMessage category: security\n              precision    recall  f1-score   support\n\n           0       0.98      1.00      0.99      6436\n           1       0.25      0.05      0.08       118\n\n   micro avg       0.98      0.98      0.98      6554\n   macro avg       0.62      0.52      0.54      6554\nweighted avg       0.97      0.98      0.97      6554\n\nMessage category: military\n              precision    recall  f1-score   support\n\n           0       0.97      1.00      0.99      6355\n           1       0.57      0.14      0.22       199\n\n   micro avg       0.97      0.97      0.97      6554\n   macro avg       0.77      0.57      0.60      6554\nweighted avg       0.96      0.97      0.96      6554\n\nMessage category: child_alone\n              precision    recall  f1-score   support\n\n           0       1.00      1.00      1.00      6554\n\n   micro avg       1.00      1.00      1.00      6554\n   macro avg       1.00      1.00      1.00      6554\nweighted avg       1.00      1.00      1.00      6554\n\nMessage category: water\n              precision    recall  f1-score   support\n\n           0       0.97      0.99      0.98      6124\n           1       0.79      0.59      0.68       430\n\n   micro avg       0.96      0.96      0.96      6554\n   macro avg       0.88      0.79      0.83      6554\nweighted avg       0.96      0.96      0.96      6554\n\nMessage category: food\n              precision    recall  f1-score   support\n\n           0       0.97      0.97      0.97      5831\n           1       0.78      0.75      0.77       723\n\n   micro avg       0.95      0.95      0.95      6554\n   macro avg       0.87      0.86      0.87      6554\nweighted avg       0.95      0.95      0.95      6554\n\nMessage category: shelter\n              precision    recall  f1-score   support\n\n           0       0.96      0.99      0.97      6026\n           1       0.79      0.51      0.62       528\n\n   micro avg       0.95      0.95      0.95      6554\n   macro avg       0.87      0.75      0.80      6554\nweighted avg       0.94      0.95      0.94      6554\n\nMessage category: clothing\n              precision    recall  f1-score   support\n\n           0       0.99      1.00      1.00      6463\n           1       0.77      0.47      0.59        91\n\n   micro avg       0.99      0.99      0.99      6554\n   macro avg       0.88      0.74      0.79      6554\nweighted avg       0.99      0.99      0.99      6554\n\nMessage category: money\n/Users/nomopix/anaconda3/envs/py3/lib/python3.7/site-packages/sklearn/metrics/classification.py:1143: UndefinedMetricWarning: Precision and F-score are ill-defined and being set to 0.0 in labels with no predicted samples.\n  'precision', 'predicted', average, warn_for)\n              precision    recall  f1-score   support\n\n           0       0.98      0.99      0.99      6401\n           1       0.48      0.24      0.32       153\n\n   micro avg       0.98      0.98      0.98      6554\n   macro avg       0.73      0.61      0.65      6554\nweighted avg       0.97      0.98      0.97      6554\n\nMessage category: missing_people\n              precision    recall  f1-score   support\n\n           0       0.99      1.00      0.99      6477\n           1       0.68      0.19      0.30        77\n\n   micro avg       0.99      0.99      0.99      6554\n   macro avg       0.84      0.60      0.65      6554\nweighted avg       0.99      0.99      0.99      6554\n\nMessage category: refugees\n              precision    recall  f1-score   support\n\n           0       0.97      1.00      0.98      6332\n           1       0.62      0.16      0.26       222\n\n   micro avg       0.97      0.97      0.97      6554\n   macro avg       0.80      0.58      0.62      6554\nweighted avg       0.96      0.97      0.96      6554\n\nMessage category: death\n              precision    recall  f1-score   support\n\n           0       0.97      0.99      0.98      6261\n           1       0.77      0.38      0.51       293\n\n   micro avg       0.97      0.97      0.97      6554\n   macro avg       0.87      0.69      0.75      6554\nweighted avg       0.96      0.97      0.96      6554\n\nMessage category: other_aid\n              precision    recall  f1-score   support\n\n           0       0.88      0.99      0.93      5679\n           1       0.56      0.09      0.16       875\n\n   micro avg       0.87      0.87      0.87      6554\n   macro avg       0.72      0.54      0.54      6554\nweighted avg       0.83      0.87      0.83      6554\n\nMessage category: infrastructure_related\n              precision    recall  f1-score   support\n\n           0       0.94      0.99      0.97      6153\n           1       0.40      0.06      0.11       401\n\n   micro avg       0.94      0.94      0.94      6554\n   macro avg       0.67      0.53      0.54      6554\nweighted avg       0.91      0.94      0.91      6554\n\nMessage category: transport\n              precision    recall  f1-score   support\n\n           0       0.96      0.99      0.98      6255\n           1       0.67      0.24      0.35       299\n\n   micro avg       0.96      0.96      0.96      6554\n   macro avg       0.82      0.62      0.67      6554\nweighted avg       0.95      0.96      0.95      6554\n\nMessage category: buildings\n              precision    recall  f1-score   support\n\n           0       0.96      0.99      0.98      6214\n           1       0.70      0.22      0.34       340\n\n   micro avg       0.95      0.95      0.95      6554\n   macro avg       0.83      0.61      0.66      6554\nweighted avg       0.95      0.95      0.94      6554\n\nMessage category: electricity\n              precision    recall  f1-score   support\n\n           0       0.98      1.00      0.99      6428\n           1       0.60      0.21      0.31       126\n\n   micro avg       0.98      0.98      0.98      6554\n   macro avg       0.79      0.60      0.65      6554\nweighted avg       0.98      0.98      0.98      6554\n\nMessage category: tools\n              precision    recall  f1-score   support\n\n           0       0.99      1.00      1.00      6517\n           1       0.50      0.08      0.14        37\n\n   micro avg       0.99      0.99      0.99      6554\n   macro avg       0.75      0.54      0.57      6554\nweighted avg       0.99      0.99      0.99      6554\n\nMessage category: hospitals\n              precision    recall  f1-score   support\n\n           0       0.99      1.00      0.99      6492\n           1       0.25      0.06      0.10        62\n\n   micro avg       0.99      0.99      0.99      6554\n   macro avg       0.62      0.53      0.55      6554\nweighted avg       0.98      0.99      0.99      6554\n\nMessage category: shops\n              precision    recall  f1-score   support\n\n           0       1.00      1.00      1.00      6526\n           1       1.00      0.04      0.07        28\n\n   micro avg       1.00      1.00      1.00      6554\n   macro avg       1.00      0.52      0.53      6554\nweighted avg       1.00      1.00      0.99      6554\n\nMessage category: aid_centers\n              precision    recall  f1-score   support\n\n           0       0.99      1.00      0.99      6480\n           1       0.67      0.11      0.19        74\n\n   micro avg       0.99      0.99      0.99      6554\n   macro avg       0.83      0.55      0.59      6554\nweighted avg       0.99      0.99      0.99      6554\n\nMessage category: other_infrastructure\n              precision    recall  f1-score   support\n\n           0       0.96      0.99      0.98      6271\n           1       0.24      0.04      0.06       283\n\n   micro avg       0.95      0.95      0.95      6554\n   macro avg       0.60      0.52      0.52      6554\nweighted avg       0.93      0.95      0.94      6554\n\nMessage category: weather_related\n              precision    recall  f1-score   support\n\n           0       0.86      0.97      0.91      4772\n           1       0.89      0.59      0.71      1782\n\n   micro avg       0.87      0.87      0.87      6554\n   macro avg       0.88      0.78      0.81      6554\nweighted avg       0.87      0.87      0.86      6554\n\nMessage category: floods\n              precision    recall  f1-score   support\n\n           0       0.96      0.99      0.98      6012\n           1       0.89      0.55      0.68       542\n\n   micro avg       0.96      0.96      0.96      6554\n   macro avg       0.93      0.77      0.83      6554\nweighted avg       0.95      0.96      0.95      6554\n\nMessage category: storm\n              precision    recall  f1-score   support\n\n           0       0.95      0.99      0.97      5962\n           1       0.78      0.46      0.58       592\n\n   micro avg       0.94      0.94      0.94      6554\n   macro avg       0.86      0.72      0.77      6554\nweighted avg       0.93      0.94      0.93      6554\n\nMessage category: fire\n              precision    recall  f1-score   support\n\n           0       0.99      1.00      0.99      6487\n           1       0.43      0.24      0.31        67\n\n   micro avg       0.99      0.99      0.99      6554\n   macro avg       0.71      0.62      0.65      6554\nweighted avg       0.99      0.99      0.99      6554\n\nMessage category: earthquake\n              precision    recall  f1-score   support\n\n           0       0.98      0.99      0.98      5934\n           1       0.90      0.78      0.83       620\n\n   micro avg       0.97      0.97      0.97      6554\n   macro avg       0.94      0.88      0.91      6554\nweighted avg       0.97      0.97      0.97      6554\n\nMessage category: cold\n              precision    recall  f1-score   support\n\n           0       0.99      1.00      0.99      6419\n           1       0.68      0.36      0.47       135\n\n   micro avg       0.98      0.98      0.98      6554\n   macro avg       0.83      0.68      0.73      6554\nweighted avg       0.98      0.98      0.98      6554\n\nMessage category: other_weather\n              precision    recall  f1-score   support\n\n           0       0.96      0.99      0.97      6239\n           1       0.45      0.10      0.17       315\n\n   micro avg       0.95      0.95      0.95      6554\n   macro avg       0.70      0.55      0.57      6554\nweighted avg       0.93      0.95      0.94      6554\n\nMessage category: direct_report\n              precision    recall  f1-score   support\n\n           0       0.88      0.96      0.92      5315\n           1       0.73      0.42      0.53      1239\n\n   micro avg       0.86      0.86      0.86      6554\n   macro avg       0.80      0.69      0.72      6554\nweighted avg       0.85      0.86      0.84      6554\n\n"
    }
   ],
   "source": [
    "params2 = {\n",
    "        'features__text_pipeline__vect__ngram_range': ((1, 1), (1, 2)),\n",
    "        'features__text_pipeline__vect__max_df': (0.5, 0.75, 1.0),\n",
    "        'features__text_pipeline__vect__max_features': (None, 5000, 10000),\n",
    "        'features__text_pipeline__tfidf__use_idf': (True, False),\n",
    "        'reg__n_estimators': [50, 100, 200],\n",
    "        'reg__min_samples_split': [2, 3, 4]\n",
    "    }\n",
    "pipeline2 = model_pipeline(params2)\n",
    "\n",
    "start_time = time.time()\n",
    "pipeline2.fit(X_train, y_train)\n",
    "print(\"--- %s seconds ---\" % (time.time() - start_time))\n",
    "\n",
    "evaluate_model(pipeline2, X_test, y_test, category_names)"
   ]
  },
  {
   "cell_type": "markdown",
   "metadata": {},
   "source": [
    "### 7. Test your model\n",
    "Show the accuracy, precision, and recall of the tuned model.  \n",
    "\n",
    "Since this project focuses on code quality, process, and  pipelines, there is no minimum performance metric needed to pass. However, make sure to fine tune your models for accuracy, precision and recall to make your project stand out - especially for your portfolio!"
   ]
  },
  {
   "cell_type": "code",
   "execution_count": null,
   "metadata": {},
   "outputs": [],
   "source": []
  },
  {
   "cell_type": "markdown",
   "metadata": {},
   "source": [
    "### 8. Try improving your model further. Here are a few ideas:\n",
    "* try other machine learning algorithms\n",
    "* add other features besides the TF-IDF"
   ]
  },
  {
   "cell_type": "markdown",
   "metadata": {},
   "source": [
    "### 9. Export your model as a pickle file"
   ]
  },
  {
   "cell_type": "code",
   "execution_count": null,
   "metadata": {},
   "outputs": [],
   "source": [
    "def save_model(model, model_filepath):\n",
    "    '''\n",
    "        input: fitted model\n",
    "        output: filepath and filename where to save the model\n",
    "        Description:\n",
    "            Save a model to a pickl file\n",
    "    '''\n",
    "\n",
    "    joblib.dump(model, open(model_filepath, 'wb'))"
   ]
  },
  {
   "cell_type": "markdown",
   "metadata": {},
   "source": [
    "### 10. Use this notebook to complete `train.py`\n",
    "Use the template file attached in the Resources folder to write a script that runs the steps above to create a database and export a model based on a new dataset specified by the user."
   ]
  },
  {
   "cell_type": "code",
   "execution_count": null,
   "metadata": {},
   "outputs": [],
   "source": [
    "save_model("
   ]
  }
 ],
 "metadata": {
  "kernelspec": {
   "display_name": "Python 3",
   "language": "python",
   "name": "python3"
  },
  "language_info": {
   "codemirror_mode": {
    "name": "ipython",
    "version": 3
   },
   "file_extension": ".py",
   "mimetype": "text/x-python",
   "name": "python",
   "nbconvert_exporter": "python",
   "pygments_lexer": "ipython3",
   "version": "3.7.2"
  }
 },
 "nbformat": 4,
 "nbformat_minor": 2
}